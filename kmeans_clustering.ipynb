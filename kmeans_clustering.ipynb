{
 "cells": [
  {
   "cell_type": "code",
   "execution_count": null,
   "metadata": {},
   "outputs": [],
   "source": [
    "import pandas as pd\n",
    "import matplotlib.pylab as plt\n",
    "from\tsklearn.cluster\timport\tKMeans\n",
    "from scipy.spatial.distance import cdist \n",
    "import numpy as np\n"
   ]
  },
  {
   "cell_type": "code",
   "execution_count": null,
   "metadata": {},
   "outputs": [],
   "source": [
    "X = np.random.uniform(0,1,1000)\n",
    "Y = np.random.uniform(0,1,1000)\n",
    "df_xy =pd.DataFrame(columns=[\"X\",\"Y\"])\n",
    "df_xy\n",
    "df_xy.X = X\n",
    "df_xy.Y = Y\n",
    "df_xy\n",
    "df_xy.plot(x=\"X\",y = \"Y\",kind=\"scatter\")\n",
    "model1 = KMeans(n_clusters=5).fit(df_xy)\n"
   ]
  },
  {
   "cell_type": "code",
   "execution_count": null,
   "metadata": {},
   "outputs": [],
   "source": [
    "df_xy.plot(x=\"X\",y = \"Y\",c=model1.labels_,kind=\"scatter\",s=10,cmap=plt.cm.coolwarm)\n"
   ]
  },
  {
   "cell_type": "code",
   "execution_count": null,
   "metadata": {},
   "outputs": [],
   "source": [
    "Airl = pd.read_excel(\"EastWestAirlines2.xlsx\")\n",
    "Airl"
   ]
  },
  {
   "cell_type": "code",
   "execution_count": null,
   "metadata": {},
   "outputs": [],
   "source": [
    "def norm_func(i):\n",
    "    x = (i-i.min())\t/\t(i.max()\t-\ti.min())\n",
    "    return (x)"
   ]
  },
  {
   "cell_type": "code",
   "execution_count": null,
   "metadata": {},
   "outputs": [],
   "source": [
    "df_norm = norm_func(Airl.iloc[:,1:])"
   ]
  },
  {
   "cell_type": "code",
   "execution_count": null,
   "metadata": {
    "scrolled": true
   },
   "outputs": [],
   "source": [
    "df_norm.head(10)  # Top 10 rows\n"
   ]
  },
  {
   "cell_type": "code",
   "execution_count": null,
   "metadata": {},
   "outputs": [],
   "source": [
    "k = list(range(2,23))\n",
    "k\n",
    "TWSS = [] # variable for storing total within sum of squares for each kmeans \n",
    "for i in k:\n",
    "    kmeans = KMeans(n_clusters = i)\n",
    "    kmeans.fit(df_norm)\n",
    "    WSS = [] # variable for storing within sum of squares for each cluster \n",
    "    for j in range(i):\n",
    "        WSS.append(sum(cdist(df_norm.iloc[kmeans.labels_==j,:],kmeans.cluster_centers_[j].reshape(1,df_norm.shape[1]),\"euclidean\")))\n",
    "    TWSS.append(sum(WSS))"
   ]
  },
  {
   "cell_type": "code",
   "execution_count": null,
   "metadata": {},
   "outputs": [],
   "source": [
    "plt.plot(k,TWSS, 'ro-');plt.xlabel(\"No_of_Clusters\");plt.ylabel(\"total_within_SS\");plt.xticks(k)\n"
   ]
  },
  {
   "cell_type": "code",
   "execution_count": null,
   "metadata": {},
   "outputs": [],
   "source": [
    "model=KMeans(n_clusters=5) \n",
    "model.fit(df_norm)\n"
   ]
  },
  {
   "cell_type": "code",
   "execution_count": null,
   "metadata": {},
   "outputs": [],
   "source": [
    "model.labels_ # getting the labels of clusters assigned to each row \n",
    "md=pd.Series(model.labels_)  # converting numpy array into pandas series object \n",
    "Airl['clust']=md # creating a  new column and assigning it to new column \n",
    "Airl"
   ]
  },
  {
   "cell_type": "code",
   "execution_count": null,
   "metadata": {},
   "outputs": [],
   "source": [
    "Airl.iloc[:,1:8].groupby(Airl.clust).mean()"
   ]
  },
  {
   "cell_type": "code",
   "execution_count": null,
   "metadata": {},
   "outputs": [],
   "source": []
  }
 ],
 "metadata": {
  "kernelspec": {
   "display_name": "Python 3",
   "language": "python",
   "name": "python3"
  },
  "language_info": {
   "codemirror_mode": {
    "name": "ipython",
    "version": 3
   },
   "file_extension": ".py",
   "mimetype": "text/x-python",
   "name": "python",
   "nbconvert_exporter": "python",
   "pygments_lexer": "ipython3",
   "version": "3.7.6"
  },
  "varInspector": {
   "cols": {
    "lenName": 16,
    "lenType": 16,
    "lenVar": 40
   },
   "kernels_config": {
    "python": {
     "delete_cmd_postfix": "",
     "delete_cmd_prefix": "del ",
     "library": "var_list.py",
     "varRefreshCmd": "print(var_dic_list())"
    },
    "r": {
     "delete_cmd_postfix": ") ",
     "delete_cmd_prefix": "rm(",
     "library": "var_list.r",
     "varRefreshCmd": "cat(var_dic_list()) "
    }
   },
   "types_to_exclude": [
    "module",
    "function",
    "builtin_function_or_method",
    "instance",
    "_Feature"
   ],
   "window_display": false
  }
 },
 "nbformat": 4,
 "nbformat_minor": 2
}
